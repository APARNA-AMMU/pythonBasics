{
 "cells": [
  {
   "cell_type": "code",
   "execution_count": 2,
   "id": "e27592a7",
   "metadata": {},
   "outputs": [
    {
     "name": "stdout",
     "output_type": "stream",
     "text": [
      "Enter a date:31/12/2020\n",
      "The inremented date is: 1 1 2021\n"
     ]
    }
   ],
   "source": [
    "#python program to check if a date is valid and print the increment date if it is\n",
    "date=input(\"Enter a date:\")\n",
    "dd,mm,yy=date.split('/')\n",
    "dd=int(dd)\n",
    "mm=int(mm)\n",
    "yy=int(yy)\n",
    "if(mm==1 or mm==3 or mm==5 or mm==7 or mm==8 or mm==10 or mm==12):\n",
    "    max_val=31\n",
    "elif(mm==4 or mm==6 or mm==9 or mm==11):\n",
    "    max_val=30\n",
    "elif(yy%4==0 or yy%100!=0 or yy%400==0):\n",
    "    max_val=29\n",
    "else:\n",
    "    max_val=28\n",
    "if(mm<1 or mm>12 or dd<1 or dd>max_val):\n",
    "    print(\"The date is invalid\")\n",
    "elif(dd==max_val and  mm!=12):\n",
    "    dd=1\n",
    "    mm=mm+1\n",
    "    print(\"The inremented date is:\",dd,mm,yy)\n",
    "elif(dd==31 and mm==12):4\n",
    "    dd=1\n",
    "    mm=1\n",
    "    yy=yy+1\n",
    "    print(\"The inremented date is:\",dd,mm,yy)\n",
    "else:\n",
    "    dd=dd+1\n",
    "    print(\"The inremented date is:\",dd,mm,yy)\n"
   ]
  },
  {
   "cell_type": "code",
   "execution_count": 1,
   "id": "905c2425",
   "metadata": {},
   "outputs": [
    {
     "name": "stdout",
     "output_type": "stream",
     "text": [
      "Enter the principle amount:80000\n",
      "Enter the time in years:2\n",
      "Enter the rate:4\n",
      "The computed simple interest is :\n",
      "6400.0\n"
     ]
    }
   ],
   "source": [
    "#python program to compute simple interest given all the required values\n",
    "principle_amt=float(input(\"Enter the principle amount:\"))\n",
    "time=int(input(\"Enter the time in years:\"))\n",
    "rate=float(input(\"Enter the rate:\"))\n",
    "simple_interest=(principle_amt*time*rate)/100\n",
    "print(\"The computed simple interest is :\")\n",
    "print(simple_interest)"
   ]
  },
  {
   "cell_type": "code",
   "execution_count": null,
   "id": "78023acf",
   "metadata": {},
   "outputs": [],
   "source": []
  },
  {
   "cell_type": "code",
   "execution_count": null,
   "id": "5ecddea1",
   "metadata": {},
   "outputs": [],
   "source": []
  }
 ],
 "metadata": {
  "kernelspec": {
   "display_name": "Python 3",
   "language": "python",
   "name": "python3"
  },
  "language_info": {
   "codemirror_mode": {
    "name": "ipython",
    "version": 3
   },
   "file_extension": ".py",
   "mimetype": "text/x-python",
   "name": "python",
   "nbconvert_exporter": "python",
   "pygments_lexer": "ipython3",
   "version": "3.8.8"
  }
 },
 "nbformat": 4,
 "nbformat_minor": 5
}
