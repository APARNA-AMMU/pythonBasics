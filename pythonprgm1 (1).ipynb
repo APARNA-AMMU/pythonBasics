{
 "cells": [
  {
   "cell_type": "code",
   "execution_count": 2,
   "id": "0deb1fef",
   "metadata": {},
   "outputs": [
    {
     "name": "stdout",
     "output_type": "stream",
     "text": [
      "enter the number of elements to be inserted:6\n",
      "enter the element:67\n",
      "enter the element:45\n",
      "enter the element:98\n",
      "enter the element:90\n",
      "enter the element:5\n",
      "enter the element:4\n",
      "average of the elements in the list are: 51.5\n"
     ]
    }
   ],
   "source": [
    "n=int(input(\"enter the number of elements to be inserted:\"))\n",
    "a=[]\n",
    "for i in range(0,n):\n",
    "    elem=int(input(\"enter the element:\"))\n",
    "    a.append(elem)\n",
    "avg=sum(a)/n\n",
    "print(\"average of the elements in the list are:\",round(avg,2))"
   ]
  },
  {
   "cell_type": "code",
   "execution_count": 4,
   "id": "5797a087",
   "metadata": {},
   "outputs": [
    {
     "name": "stdout",
     "output_type": "stream",
     "text": [
      "enter the first variable:y\n"
     ]
    },
    {
     "ename": "ValueError",
     "evalue": "invalid literal for int() with base 10: 'y'",
     "output_type": "error",
     "traceback": [
      "\u001b[1;31m---------------------------------------------------------------------------\u001b[0m",
      "\u001b[1;31mValueError\u001b[0m                                Traceback (most recent call last)",
      "\u001b[1;32m<ipython-input-4-a63072be85fd>\u001b[0m in \u001b[0;36m<module>\u001b[1;34m\u001b[0m\n\u001b[1;32m----> 1\u001b[1;33m \u001b[0mn1\u001b[0m\u001b[1;33m=\u001b[0m\u001b[0mint\u001b[0m\u001b[1;33m(\u001b[0m\u001b[0minput\u001b[0m\u001b[1;33m(\u001b[0m\u001b[1;34m\"enter the first variable:\"\u001b[0m\u001b[1;33m)\u001b[0m\u001b[1;33m)\u001b[0m\u001b[1;33m\u001b[0m\u001b[1;33m\u001b[0m\u001b[0m\n\u001b[0m\u001b[0;32m      2\u001b[0m \u001b[0mn2\u001b[0m\u001b[1;33m=\u001b[0m\u001b[0mint\u001b[0m\u001b[1;33m(\u001b[0m\u001b[0minput\u001b[0m\u001b[1;33m(\u001b[0m\u001b[1;34m\"enter the secon variable\"\u001b[0m\u001b[1;33m)\u001b[0m\u001b[1;33m)\u001b[0m\u001b[1;33m\u001b[0m\u001b[1;33m\u001b[0m\u001b[0m\n\u001b[0;32m      3\u001b[0m \u001b[0mn1\u001b[0m\u001b[1;33m=\u001b[0m\u001b[0mn1\u001b[0m\u001b[1;33m+\u001b[0m\u001b[0mn2\u001b[0m\u001b[1;33m\u001b[0m\u001b[1;33m\u001b[0m\u001b[0m\n\u001b[0;32m      4\u001b[0m \u001b[0mn2\u001b[0m\u001b[1;33m=\u001b[0m\u001b[0mn1\u001b[0m\u001b[1;33m-\u001b[0m\u001b[0mn2\u001b[0m\u001b[1;33m\u001b[0m\u001b[1;33m\u001b[0m\u001b[0m\n\u001b[0;32m      5\u001b[0m \u001b[0mn1\u001b[0m\u001b[1;33m=\u001b[0m\u001b[0mn1\u001b[0m\u001b[1;33m-\u001b[0m\u001b[0mn2\u001b[0m\u001b[1;33m\u001b[0m\u001b[1;33m\u001b[0m\u001b[0m\n",
      "\u001b[1;31mValueError\u001b[0m: invalid literal for int() with base 10: 'y'"
     ]
    }
   ],
   "source": [
    "n1=int(input(\"enter the first variable:\"))\n",
    "n2=int(input(\"enter the secon variable\"))\n",
    "n1=n1+n2\n",
    "n2=n1-n2\n",
    "n1=n1-n2\n",
    "print(\"n1 is \",n1,\"b is \",n2 )"
   ]
  },
  {
   "cell_type": "code",
   "execution_count": 5,
   "id": "ba1916c1",
   "metadata": {},
   "outputs": [
    {
     "name": "stdout",
     "output_type": "stream",
     "text": [
      "enter the first variable:3\n",
      "enter the secon variable8\n",
      "n1 is  8 b is  3\n"
     ]
    }
   ],
   "source": [
    "n1=int(input(\"enter the first variable:\"))\n",
    "n2=int(input(\"enter the secon variable\"))\n",
    "n1=n1+n2\n",
    "n2=n1-n2\n",
    "n1=n1-n2\n",
    "print(\"n1 is \",n1,\"b is \",n2 )"
   ]
  },
  {
   "cell_type": "code",
   "execution_count": 6,
   "id": "82d67be9",
   "metadata": {},
   "outputs": [
    {
     "name": "stdout",
     "output_type": "stream",
     "text": [
      "enter the first variable:3\n",
      "enter the secon variable8\n",
      "n1 is  8\n",
      "n2 is  3\n"
     ]
    }
   ],
   "source": [
    "n1=int(input(\"enter the first variable:\"))\n",
    "n2=int(input(\"enter the secon variable\"))\n",
    "n1=n1+n2\n",
    "n2=n1-n2\n",
    "n1=n1-n2\n",
    "print(\"n1 is \",n1)\n",
    "print(\"n2 is \",n2 )"
   ]
  },
  {
   "cell_type": "markdown",
   "id": "2b940ac7",
   "metadata": {},
   "source": [
    "n=int(input(\"enter a number :\"))\n",
    "m=str(n)\n",
    "t1=m+m\n",
    "t2=m+m+m\n",
    "comp=n+int(t1)+int(t2)\n",
    "print(\"the value is:\",comp)"
   ]
  },
  {
   "cell_type": "code",
   "execution_count": 1,
   "id": "17daf98f",
   "metadata": {},
   "outputs": [
    {
     "name": "stdout",
     "output_type": "stream",
     "text": [
      "Enter a number n: 9\n",
      "The value is: 1107\n"
     ]
    }
   ],
   "source": [
    "n=int(input(\"Enter a number n: \"))\n",
    "temp=str(n)\n",
    "t1=temp+temp\n",
    "t2=temp+temp+temp\n",
    "comp=n+int(t1)+int(t2)\n",
    "print(\"The value is:\",comp)"
   ]
  },
  {
   "cell_type": "code",
   "execution_count": 2,
   "id": "6bae305d",
   "metadata": {},
   "outputs": [
    {
     "name": "stdout",
     "output_type": "stream",
     "text": [
      "Enter a number n: t\n"
     ]
    },
    {
     "ename": "ValueError",
     "evalue": "invalid literal for int() with base 10: 't'",
     "output_type": "error",
     "traceback": [
      "\u001b[1;31m---------------------------------------------------------------------------\u001b[0m",
      "\u001b[1;31mValueError\u001b[0m                                Traceback (most recent call last)",
      "\u001b[1;32m<ipython-input-2-15bb38e4a70d>\u001b[0m in \u001b[0;36m<module>\u001b[1;34m\u001b[0m\n\u001b[1;32m----> 1\u001b[1;33m \u001b[0mn\u001b[0m\u001b[1;33m=\u001b[0m\u001b[0mint\u001b[0m\u001b[1;33m(\u001b[0m\u001b[0minput\u001b[0m\u001b[1;33m(\u001b[0m\u001b[1;34m\"Enter a number n: \"\u001b[0m\u001b[1;33m)\u001b[0m\u001b[1;33m)\u001b[0m\u001b[1;33m\u001b[0m\u001b[1;33m\u001b[0m\u001b[0m\n\u001b[0m\u001b[0;32m      2\u001b[0m \u001b[0mtemp\u001b[0m\u001b[1;33m=\u001b[0m\u001b[0mstr\u001b[0m\u001b[1;33m(\u001b[0m\u001b[0mn\u001b[0m\u001b[1;33m)\u001b[0m\u001b[1;33m\u001b[0m\u001b[1;33m\u001b[0m\u001b[0m\n\u001b[0;32m      3\u001b[0m \u001b[0mt1\u001b[0m\u001b[1;33m=\u001b[0m\u001b[0mtemp\u001b[0m\u001b[1;33m+\u001b[0m\u001b[0mtemp\u001b[0m\u001b[1;33m\u001b[0m\u001b[1;33m\u001b[0m\u001b[0m\n\u001b[0;32m      4\u001b[0m \u001b[0mt2\u001b[0m\u001b[1;33m=\u001b[0m\u001b[0mtemp\u001b[0m\u001b[1;33m+\u001b[0m\u001b[0mtemp\u001b[0m\u001b[1;33m+\u001b[0m\u001b[0mtemp\u001b[0m\u001b[1;33m\u001b[0m\u001b[1;33m\u001b[0m\u001b[0m\n\u001b[0;32m      5\u001b[0m \u001b[0mcomp\u001b[0m\u001b[1;33m=\u001b[0m\u001b[0mn\u001b[0m\u001b[1;33m+\u001b[0m\u001b[0mint\u001b[0m\u001b[1;33m(\u001b[0m\u001b[0mt1\u001b[0m\u001b[1;33m)\u001b[0m\u001b[1;33m+\u001b[0m\u001b[0mint\u001b[0m\u001b[1;33m(\u001b[0m\u001b[0mt2\u001b[0m\u001b[1;33m)\u001b[0m\u001b[1;33m\u001b[0m\u001b[1;33m\u001b[0m\u001b[0m\n",
      "\u001b[1;31mValueError\u001b[0m: invalid literal for int() with base 10: 't'"
     ]
    }
   ],
   "source": [
    "n=int(input(\"Enter a number n: \"))\n",
    "temp=str(n)\n",
    "t1=temp+temp\n",
    "t2=temp+temp+temp\n",
    "comp=n+int(t1)+int(t2)\n",
    "print(\"The value is:\",comp)"
   ]
  },
  {
   "cell_type": "code",
   "execution_count": 5,
   "id": "a85e354f",
   "metadata": {},
   "outputs": [
    {
     "name": "stdout",
     "output_type": "stream",
     "text": [
      "enter the number:987\n",
      "reverse of the number: 789\n"
     ]
    }
   ],
   "source": [
    "n=int(input(\"enter the number:\"))\n",
    "rev=0\n",
    "while(n>0):\n",
    "    dig=n%10\n",
    "    rev=rev*10+dig\n",
    "    n=n//10\n",
    "print(\"reverse of the number:\",rev)"
   ]
  },
  {
   "cell_type": "code",
   "execution_count": null,
   "id": "4c51caf4",
   "metadata": {},
   "outputs": [],
   "source": [
    "n=int(input(\"engter the number:\"))\n",
    "if(n>0):\n",
    "    print(\"the number is positive\")\n",
    "elif(n==0):\n",
    "    print(\"zero\")\n",
    "else:\n",
    "    print(\"the number is negative\")\n"
   ]
  },
  {
   "cell_type": "code",
   "execution_count": null,
   "id": "79406ff8",
   "metadata": {},
   "outputs": [],
   "source": [
    "n=int(input(\"engter the number:\"))\n",
    "if(n>0):\n",
    "    print(\"the number is positive\")\n",
    "elif(n==0):\n",
    "    print(\"zero\")\n",
    "else:\n",
    "    print(\"the number is negative\")\n"
   ]
  },
  {
   "cell_type": "code",
   "execution_count": null,
   "id": "2676ccfa",
   "metadata": {},
   "outputs": [],
   "source": [
    "n=int(input(\"engter the number:\"))\n",
    "if(n>0):\n",
    "    print(\"the number is positive\")\n",
    "elif(n==0):\n",
    "    print(\"zero\")\n",
    "else:\n",
    "    print(\"the number is negative\")\n"
   ]
  },
  {
   "cell_type": "code",
   "execution_count": null,
   "id": "ecee02f8",
   "metadata": {},
   "outputs": [],
   "source": [
    "n=int(input(\"engter the number:\"))\n",
    "if(n>0):\n",
    "    print(\"the number is positive\")\n",
    "elif(n==0):\n",
    "    print(\"zero\")\n",
    "else:\n",
    "    print(\"the number is negative\")\n"
   ]
  },
  {
   "cell_type": "code",
   "execution_count": 7,
   "id": "a53b2e34",
   "metadata": {},
   "outputs": [
    {
     "name": "stdout",
     "output_type": "stream",
     "text": [
      "Enter marks of the first subject: 75\n",
      "Enter marks of the second subject: 78\n",
      "Enter marks of the third subject: 89\n",
      "Enter marks of the fourth subject: 94\n",
      "Enter marks of the fifth subject: 85\n",
      "Grade: B\n"
     ]
    }
   ],
   "source": [
    "import math\n",
    "sub1=int(input(\"Enter marks of the first subject: \"))\n",
    "sub2=int(input(\"Enter marks of the second subject: \"))\n",
    "sub3=int(input(\"Enter marks of the third subject: \"))\n",
    "sub4=int(input(\"Enter marks of the fourth subject: \"))\n",
    "sub5=int(input(\"Enter marks of the fifth subject: \"))\n",
    "avg=(sub1+sub2+sub3+sub4+sub5)/5\n",
    "if(avg>=90):\n",
    "    print(\"Grade: A\")\n",
    "elif(avg>=80):\n",
    "    print(\"Grade: B\")\n",
    "elif(avg>=70):\n",
    "    print(\"Grade: C\")\n",
    "elif(avg>=60):\n",
    "    print(\"Grade: D\")\n",
    "else:\n",
    "    print(\"Grade: F\")"
   ]
  },
  {
   "cell_type": "code",
   "execution_count": 3,
   "id": "9e70c7ea",
   "metadata": {},
   "outputs": [
    {
     "name": "stdout",
     "output_type": "stream",
     "text": [
      "Enter lower range limit...2\n",
      "Enter upper range limit...20\n",
      "Enter the number that should be divided by...3\n",
      "3\n",
      "6\n",
      "9\n",
      "12\n",
      "15\n",
      "18\n"
     ]
    }
   ],
   "source": [
    "#python program to print all numbers in a range divisible by a given number\n",
    "lower_num = int(input(\"Enter lower range limit...\"))\n",
    "upper_num = int(input(\"Enter upper range limit...\"))\n",
    "div_num = int(input(\"Enter the number that should be divided by...\"))\n",
    "for i in range(lower_num,upper_num+1):\n",
    "   if(i%div_num==0):\n",
    "      print(i)"
   ]
  },
  {
   "cell_type": "code",
   "execution_count": 4,
   "id": "885f55c1",
   "metadata": {},
   "outputs": [
    {
     "name": "stdout",
     "output_type": "stream",
     "text": [
      "Enter the first number: 8\n",
      "Enter the second number: 6\n",
      "Quotient is: 1\n",
      "Remainder is: 2\n"
     ]
    }
   ],
   "source": [
    "#python program to read two numbers and print their quotient and remainder\n",
    "a = int(input(\"Enter the first number: \"))\n",
    "b = int(input(\"Enter the second number: \"))\n",
    "quotient = a//b\n",
    "remainder = a%b\n",
    "print(\"Quotient is:\", quotient)\n",
    "print(\"Remainder is:\", remainder)"
   ]
  },
  {
   "cell_type": "code",
   "execution_count": 5,
   "id": "e356e711",
   "metadata": {},
   "outputs": [
    {
     "name": "stdout",
     "output_type": "stream",
     "text": [
      "Enter the first number...4\n",
      "Enter the second number...5\n",
      "Enter the third number...6\n",
      "The first number is \n",
      "4\n",
      "The second number is \n",
      "5\n",
      "The third number is \n",
      "6\n",
      "4 5 6\n",
      "4 6 5\n",
      "5 4 6\n",
      "5 6 4\n",
      "6 4 5\n",
      "6 5 4\n"
     ]
    }
   ],
   "source": [
    "#python program to accept three digits and print all possible combinations from the digits\n",
    "first_num = int(input(\"Enter the first number...\"))\n",
    "second_num = int(input(\"Enter the second number...\"))\n",
    "third_num = int(input(\"Enter the third number...\"))\n",
    "my_list = []\n",
    "print(\"The first number is \")\n",
    "print(first_num)\n",
    "print(\"The second number is \")\n",
    "print(second_num)\n",
    "print(\"The third number is \")\n",
    "print(third_num)\n",
    "\n",
    "my_list.append(first_num)\n",
    "my_list.append(second_num)\n",
    "my_list.append(third_num)\n",
    "\n",
    "for i in range(0,3):\n",
    "   for j in range(0,3):\n",
    "      for k in range(0,3):\n",
    "         if(i!=j&j!=k&k!=i):\n",
    "            print(my_list[i],my_list[j],my_list[k])"
   ]
  },
  {
   "cell_type": "code",
   "execution_count": 6,
   "id": "a7598a21",
   "metadata": {},
   "outputs": [
    {
     "name": "stdout",
     "output_type": "stream",
     "text": [
      "5 7 9 11 13 15 17 19 "
     ]
    }
   ],
   "source": [
    " #Python program to print odd Numbers in given range\n",
    "  \n",
    "start, end = 4, 19\n",
    "for num in range(start, end + 1):\n",
    "    if num % 2 != 0:\n",
    "        print(num, end = \" \")"
   ]
  },
  {
   "cell_type": "code",
   "execution_count": 7,
   "id": "bb2bee28",
   "metadata": {},
   "outputs": [
    {
     "name": "stdout",
     "output_type": "stream",
     "text": [
      "Enter a number:457\n",
      "The total sum of digits is: 16\n"
     ]
    }
   ],
   "source": [
    "#python program to find the sum of the digits of a number\n",
    "n=int(input(\"Enter a number:\"))\n",
    "tot=0\n",
    "while(n>0):\n",
    "    dig=n%10\n",
    "    tot=tot+dig\n",
    "    n=n//10\n",
    "print(\"The total sum of digits is:\",tot)"
   ]
  },
  {
   "cell_type": "code",
   "execution_count": 8,
   "id": "c57777f7",
   "metadata": {},
   "outputs": [
    {
     "name": "stdout",
     "output_type": "stream",
     "text": [
      "Enter a number: 5\n",
      "1 0 0 0 0 \n",
      "0 1 0 0 0 \n",
      "0 0 1 0 0 \n",
      "0 0 0 1 0 \n",
      "0 0 0 0 1 \n"
     ]
    }
   ],
   "source": [
    "#python program to print an identity matrix\n",
    "n=int(input(\"Enter a number: \"))\n",
    "for i in range(0,n):\n",
    "    for j in range(0,n):\n",
    "        if(i==j):\n",
    "            print(\"1\",sep=\" \",end=\" \")\n",
    "        else:\n",
    "            print(\"0\",sep=\" \",end=\" \")\n",
    "    print()"
   ]
  },
  {
   "cell_type": "code",
   "execution_count": 9,
   "id": "cbd84931",
   "metadata": {},
   "outputs": [
    {
     "name": "stdout",
     "output_type": "stream",
     "text": [
      "Enter number of rows: 8\n",
      "********\n",
      " *******\n",
      "  ******\n",
      "   *****\n",
      "    ****\n",
      "     ***\n",
      "      **\n",
      "       *\n"
     ]
    }
   ],
   "source": [
    "#python program to print an inverted star pattern\n",
    "n=int(input(\"Enter number of rows: \"))\n",
    "for i in range (n,0,-1):\n",
    "    print((n-i) * ' ' + i * '*')"
   ]
  },
  {
   "cell_type": "code",
   "execution_count": null,
   "id": "c09394e8",
   "metadata": {},
   "outputs": [],
   "source": []
  }
 ],
 "metadata": {
  "kernelspec": {
   "display_name": "Python 3",
   "language": "python",
   "name": "python3"
  },
  "language_info": {
   "codemirror_mode": {
    "name": "ipython",
    "version": 3
   },
   "file_extension": ".py",
   "mimetype": "text/x-python",
   "name": "python",
   "nbconvert_exporter": "python",
   "pygments_lexer": "ipython3",
   "version": "3.8.8"
  }
 },
 "nbformat": 4,
 "nbformat_minor": 5
}
