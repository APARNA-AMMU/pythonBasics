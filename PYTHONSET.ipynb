{
 "cells": [
  {
   "cell_type": "code",
   "execution_count": 1,
   "id": "46c3c34b",
   "metadata": {},
   "outputs": [
    {
     "name": "stdout",
     "output_type": "stream",
     "text": [
      "{1, 2, 3, 4, 5}\n"
     ]
    }
   ],
   "source": [
    "numberSet={1,2,3,4,5,2}\n",
    "print(numberSet)"
   ]
  },
  {
   "cell_type": "code",
   "execution_count": 3,
   "id": "a553c18a",
   "metadata": {},
   "outputs": [
    {
     "name": "stdout",
     "output_type": "stream",
     "text": [
      "<class 'dict'>\n"
     ]
    }
   ],
   "source": [
    "emptyset={}\n",
    "print(type(emptyset))"
   ]
  },
  {
   "cell_type": "code",
   "execution_count": 4,
   "id": "c4bee9bf",
   "metadata": {},
   "outputs": [
    {
     "name": "stdout",
     "output_type": "stream",
     "text": [
      "<class 'set'>\n"
     ]
    }
   ],
   "source": [
    "emptyset=set()\n",
    "print(type(emptyset))"
   ]
  },
  {
   "cell_type": "code",
   "execution_count": 8,
   "id": "541dd813",
   "metadata": {},
   "outputs": [
    {
     "name": "stdout",
     "output_type": "stream",
     "text": [
      "{1.0, (1, 2, 3), 'hello'}\n"
     ]
    }
   ],
   "source": [
    "my_set={1.0,\"hello\",(1,2,3)}\n",
    "print(my_set)"
   ]
  },
  {
   "cell_type": "code",
   "execution_count": 6,
   "id": "0505fbf4",
   "metadata": {},
   "outputs": [
    {
     "ename": "TypeError",
     "evalue": "unhashable type: 'list'",
     "output_type": "error",
     "traceback": [
      "\u001b[1;31m---------------------------------------------------------------------------\u001b[0m",
      "\u001b[1;31mTypeError\u001b[0m                                 Traceback (most recent call last)",
      "\u001b[1;32m<ipython-input-6-5dbf4421c2ae>\u001b[0m in \u001b[0;36m<module>\u001b[1;34m\u001b[0m\n\u001b[1;32m----> 1\u001b[1;33m \u001b[0mset_with_lists\u001b[0m\u001b[1;33m=\u001b[0m\u001b[1;33m{\u001b[0m\u001b[1;33m[\u001b[0m\u001b[1;36m1\u001b[0m\u001b[1;33m,\u001b[0m\u001b[1;36m2\u001b[0m\u001b[1;33m,\u001b[0m\u001b[1;36m3\u001b[0m\u001b[1;33m]\u001b[0m\u001b[1;33m}\u001b[0m\u001b[1;33m\u001b[0m\u001b[1;33m\u001b[0m\u001b[0m\n\u001b[0m",
      "\u001b[1;31mTypeError\u001b[0m: unhashable type: 'list'"
     ]
    }
   ],
   "source": [
    "set_with_lists={[1,2,3]}"
   ]
  },
  {
   "cell_type": "code",
   "execution_count": 9,
   "id": "dea2c95f",
   "metadata": {},
   "outputs": [
    {
     "name": "stdout",
     "output_type": "stream",
     "text": [
      "<class 'list'>\n",
      "[1, 2, 3]\n"
     ]
    }
   ],
   "source": [
    "set_with_lists=([1,2,3])\n",
    "print(type(set_with_lists))\n",
    "print(set_with_lists)"
   ]
  },
  {
   "cell_type": "code",
   "execution_count": 10,
   "id": "e6ca4e45",
   "metadata": {},
   "outputs": [],
   "source": [
    "myset=set()\n"
   ]
  },
  {
   "cell_type": "code",
   "execution_count": 12,
   "id": "9ec15970",
   "metadata": {},
   "outputs": [
    {
     "name": "stdout",
     "output_type": "stream",
     "text": [
      "{'a', 'i', 3, 'e', 5, 'k', 'n', 9, 12, 'd', 'r', 's'}\n"
     ]
    }
   ],
   "source": [
    "myset.update([9,12])\n",
    "myset.update((3,5))\n",
    "myset.update(\"sikander\")\n",
    "print(myset)"
   ]
  },
  {
   "cell_type": "code",
   "execution_count": 13,
   "id": "cd63e4de",
   "metadata": {},
   "outputs": [
    {
     "name": "stdout",
     "output_type": "stream",
     "text": [
      "{'a', 'i', 3, 'e', 5, 'INDIA', 'k', 'n', 9, 12, 'd', 'r', 'BHARAT', 's'}\n"
     ]
    },
    {
     "ename": "TypeError",
     "evalue": "'int' object is not iterable",
     "output_type": "error",
     "traceback": [
      "\u001b[1;31m---------------------------------------------------------------------------\u001b[0m",
      "\u001b[1;31mTypeError\u001b[0m                                 Traceback (most recent call last)",
      "\u001b[1;32m<ipython-input-13-53577e9d5c0c>\u001b[0m in \u001b[0;36m<module>\u001b[1;34m\u001b[0m\n\u001b[0;32m      1\u001b[0m \u001b[0mmyset\u001b[0m\u001b[1;33m.\u001b[0m\u001b[0mupdate\u001b[0m\u001b[1;33m(\u001b[0m\u001b[1;33m(\u001b[0m\u001b[1;34m\"INDIA\"\u001b[0m\u001b[1;33m,\u001b[0m\u001b[1;34m\"BHARAT\"\u001b[0m\u001b[1;33m)\u001b[0m\u001b[1;33m)\u001b[0m\u001b[1;33m\u001b[0m\u001b[1;33m\u001b[0m\u001b[0m\n\u001b[0;32m      2\u001b[0m \u001b[0mprint\u001b[0m\u001b[1;33m(\u001b[0m\u001b[0mmyset\u001b[0m\u001b[1;33m)\u001b[0m\u001b[1;33m\u001b[0m\u001b[1;33m\u001b[0m\u001b[0m\n\u001b[1;32m----> 3\u001b[1;33m \u001b[0mmyset\u001b[0m\u001b[1;33m.\u001b[0m\u001b[0mupdate\u001b[0m\u001b[1;33m(\u001b[0m\u001b[1;36m4\u001b[0m\u001b[1;33m,\u001b[0m\u001b[1;36m5\u001b[0m\u001b[1;33m)\u001b[0m\u001b[1;33m\u001b[0m\u001b[1;33m\u001b[0m\u001b[0m\n\u001b[0m",
      "\u001b[1;31mTypeError\u001b[0m: 'int' object is not iterable"
     ]
    }
   ],
   "source": [
    "myset.update((\"INDIA\",\"BHARAT\"))\n",
    "print(myset)\n",
    "myset.update(4,5)"
   ]
  },
  {
   "cell_type": "code",
   "execution_count": 14,
   "id": "aad46f7b",
   "metadata": {},
   "outputs": [
    {
     "name": "stdout",
     "output_type": "stream",
     "text": [
      "{'a', 'i', 3, 'e', 5, 'INDIA', 'k', 'n', 9, 12, 'd', 'r', 'BHARAT', 's'}\n"
     ]
    }
   ],
   "source": [
    "print(myset)"
   ]
  },
  {
   "cell_type": "code",
   "execution_count": 15,
   "id": "b1a4670d",
   "metadata": {},
   "outputs": [
    {
     "name": "stdout",
     "output_type": "stream",
     "text": [
      "{'a', 'i', 3, 'e', 5, 'INDIA', 'k', 'n', 9, 'd', 'r', 'BHARAT', 's'}\n"
     ]
    }
   ],
   "source": [
    "myset.discard(12)\n",
    "print(myset)"
   ]
  },
  {
   "cell_type": "code",
   "execution_count": 17,
   "id": "fd05004e",
   "metadata": {},
   "outputs": [
    {
     "name": "stdout",
     "output_type": "stream",
     "text": [
      "{'a', 'i', 3, 'e', 5, 'INDIA', 'k', 'n', 9, 'd', 'r', 'BHARAT', 's'}\n"
     ]
    }
   ],
   "source": [
    "myset.discard(15)\n",
    "print(myset)"
   ]
  },
  {
   "cell_type": "code",
   "execution_count": 18,
   "id": "3bb1f37a",
   "metadata": {},
   "outputs": [
    {
     "name": "stdout",
     "output_type": "stream",
     "text": [
      "{'a', 'i', 3, 'e', 5, 'INDIA', 'k', 'n', 9, 'd', 'r', 'BHARAT', 's'}\n"
     ]
    },
    {
     "ename": "KeyError",
     "evalue": "15",
     "output_type": "error",
     "traceback": [
      "\u001b[1;31m---------------------------------------------------------------------------\u001b[0m",
      "\u001b[1;31mKeyError\u001b[0m                                  Traceback (most recent call last)",
      "\u001b[1;32m<ipython-input-18-066c7fa15033>\u001b[0m in \u001b[0;36m<module>\u001b[1;34m\u001b[0m\n\u001b[0;32m      1\u001b[0m \u001b[0mprint\u001b[0m\u001b[1;33m(\u001b[0m\u001b[0mmyset\u001b[0m\u001b[1;33m)\u001b[0m\u001b[1;33m\u001b[0m\u001b[1;33m\u001b[0m\u001b[0m\n\u001b[1;32m----> 2\u001b[1;33m \u001b[0mmyset\u001b[0m\u001b[1;33m.\u001b[0m\u001b[0mremove\u001b[0m\u001b[1;33m(\u001b[0m\u001b[1;36m15\u001b[0m\u001b[1;33m)\u001b[0m\u001b[1;33m\u001b[0m\u001b[1;33m\u001b[0m\u001b[0m\n\u001b[0m",
      "\u001b[1;31mKeyError\u001b[0m: 15"
     ]
    }
   ],
   "source": [
    "print(myset)\n",
    "myset.remove(15)"
   ]
  },
  {
   "cell_type": "code",
   "execution_count": 19,
   "id": "e5dd8c94",
   "metadata": {},
   "outputs": [
    {
     "name": "stdout",
     "output_type": "stream",
     "text": [
      "True\n"
     ]
    }
   ],
   "source": [
    "myset.discard(12)\n",
    "print(myset)"
   ]
  },
  {
   "cell_type": "code",
   "execution_count": 21,
   "id": "37d79b8c",
   "metadata": {},
   "outputs": [
    {
     "name": "stdout",
     "output_type": "stream",
     "text": [
      "True\n",
      "False\n"
     ]
    }
   ],
   "source": [
    "my_set=(\"apple\")\n",
    "print('a'in my_set)\n",
    "print('p'not in my_set)"
   ]
  },
  {
   "cell_type": "code",
   "execution_count": 22,
   "id": "25183fbb",
   "metadata": {},
   "outputs": [
    {
     "name": "stdout",
     "output_type": "stream",
     "text": [
      "number of unique characters= 15\n",
      "list of unique characters= {'a', 'e', 'i', 't', 'n', 'l', 'r', 'g', 'o', 's', 'v', 'b', 'c', 'y', ' '}\n",
      "repeated characters {'a', 'e', 'n', 'r', 's', ' '}\n"
     ]
    }
   ],
   "source": [
    "data=\"cranes varsity bangalore\"\n",
    "unique=set(data)\n",
    "print(\"number of unique characters=\",len(unique))\n",
    "print(\"list of unique characters=\",unique)\n",
    "data=list(data)\n",
    "for ele in unique:\n",
    "    data.remove(ele)\n",
    "print(\"repeated characters\",set(data))"
   ]
  },
  {
   "cell_type": "code",
   "execution_count": 24,
   "id": "58cadd83",
   "metadata": {},
   "outputs": [
    {
     "name": "stdout",
     "output_type": "stream",
     "text": [
      "union= {1, 2, 3, 4, 5, 6, 7, 8}\n",
      "INTERSECTION= {4, 5}\n",
      "difference= {1, 2, 3}\n",
      "symmetric diff {1, 2, 3, 6, 7, 8}\n"
     ]
    }
   ],
   "source": [
    "A={1,2,3,4,5}\n",
    "B={4,5,6,7,8}\n",
    "print(\"union=\",A|B)\n",
    "print(\"INTERSECTION=\",A&B)\n",
    "print(\"difference=\",A-B)\n",
    "print(\"symmetric diff\",A^B)"
   ]
  },
  {
   "cell_type": "code",
   "execution_count": 25,
   "id": "a37b7d6b",
   "metadata": {},
   "outputs": [
    {
     "name": "stdout",
     "output_type": "stream",
     "text": [
      "students yet to get job\n",
      " {'sangeetha', 'jaison', 'prasad'}\n"
     ]
    }
   ],
   "source": [
    "studentlist={'danish','jaison','sangeetha','uma','amrutha','prasad'}\n",
    "placedstudentlist={'uma','danish','amrutha'}\n",
    "notplacedlist=set(studentlist)-set(placedstudentlist)\n",
    "print(\"students yet to get job\\n\",notplacedlist)"
   ]
  },
  {
   "cell_type": "code",
   "execution_count": 27,
   "id": "99faedfd",
   "metadata": {},
   "outputs": [
    {
     "name": "stdout",
     "output_type": "stream",
     "text": [
      "batsman:\n",
      " ['virat', 'dhawan', 'rohit', 'pandya', 'jadeja']\n",
      "bowlers:\n",
      " ['bhuveneshwar', 'shami', 'pandya', 'jadeja', 'kuldeep']\n",
      "allrounders:\n",
      " {'jadeja', 'pandya'}\n"
     ]
    }
   ],
   "source": [
    "batsmen=['virat','dhawan','rohit','pandya','jadeja']\n",
    "bowlers=[\"bhuveneshwar\",\"shami\",\"pandya\",\"jadeja\",\"kuldeep\"]\n",
    "allrounders=set(batsmen)&set(bowlers)\n",
    "print(\"batsman:\\n\",batsmen)\n",
    "print(\"bowlers:\\n\",bowlers)\n",
    "print(\"allrounders:\\n\",allrounders)"
   ]
  },
  {
   "cell_type": "code",
   "execution_count": 28,
   "id": "867a8beb",
   "metadata": {},
   "outputs": [
    {
     "name": "stdout",
     "output_type": "stream",
     "text": [
      "{'jaison', 'danish', 'lohitha', 'uma', 'amrutha', 'ashwathi', 'prasad', 'sangeetha'}\n",
      "number of people placed= 8\n"
     ]
    }
   ],
   "source": [
    "tcs=[\"uma\",\"danish\",\"amrutha\"]\n",
    "infosys=[\"lohitha\",\"danish\",\"ashwathi\"]\n",
    "wipro=[\"sangeetha\",\"jaison\",\"prasad\",\"amrutha\"]\n",
    "placed=set(tcs)|set(infosys)|set(wipro)\n",
    "print(placed)\n",
    "print(\"number of people placed=\",len(placed))"
   ]
  },
  {
   "cell_type": "code",
   "execution_count": 29,
   "id": "5207934f",
   "metadata": {},
   "outputs": [
    {
     "name": "stdout",
     "output_type": "stream",
     "text": [
      "True\n",
      "True\n",
      "False\n",
      "True\n"
     ]
    }
   ],
   "source": [
    "numbers={1,2,3,4,5,6,7,8,9,10}\n",
    "odd={1,3,5,7,9}\n",
    "even={2,4,6,8,10}\n",
    "print(odd.isdisjoint(even))\n",
    "print(numbers.issuperset(odd))\n",
    "print(odd.issuperset(numbers))\n",
    "print(odd.issubset(numbers))"
   ]
  },
  {
   "cell_type": "code",
   "execution_count": null,
   "id": "fd14e478",
   "metadata": {},
   "outputs": [],
   "source": []
  }
 ],
 "metadata": {
  "kernelspec": {
   "display_name": "Python 3",
   "language": "python",
   "name": "python3"
  },
  "language_info": {
   "codemirror_mode": {
    "name": "ipython",
    "version": 3
   },
   "file_extension": ".py",
   "mimetype": "text/x-python",
   "name": "python",
   "nbconvert_exporter": "python",
   "pygments_lexer": "ipython3",
   "version": "3.8.8"
  }
 },
 "nbformat": 4,
 "nbformat_minor": 5
}
